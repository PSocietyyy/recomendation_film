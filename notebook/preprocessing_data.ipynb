{
 "cells": [
  {
   "cell_type": "code",
   "execution_count": 1,
   "metadata": {},
   "outputs": [],
   "source": [
    "import pandas as pd\n",
    "import joblib\n",
    "from sklearn.feature_extraction.text import TfidfVectorizer"
   ]
  },
  {
   "cell_type": "code",
   "execution_count": 2,
   "metadata": {},
   "outputs": [
    {
     "data": {
      "text/html": [
       "<div>\n",
       "<style scoped>\n",
       "    .dataframe tbody tr th:only-of-type {\n",
       "        vertical-align: middle;\n",
       "    }\n",
       "\n",
       "    .dataframe tbody tr th {\n",
       "        vertical-align: top;\n",
       "    }\n",
       "\n",
       "    .dataframe thead th {\n",
       "        text-align: right;\n",
       "    }\n",
       "</style>\n",
       "<table border=\"1\" class=\"dataframe\">\n",
       "  <thead>\n",
       "    <tr style=\"text-align: right;\">\n",
       "      <th></th>\n",
       "      <th>movie_id</th>\n",
       "      <th>title</th>\n",
       "      <th>overview</th>\n",
       "      <th>genres</th>\n",
       "      <th>keywords</th>\n",
       "      <th>cast</th>\n",
       "    </tr>\n",
       "  </thead>\n",
       "  <tbody>\n",
       "    <tr>\n",
       "      <th>0</th>\n",
       "      <td>19995</td>\n",
       "      <td>Avatar</td>\n",
       "      <td>['In', 'the', '22nd', 'century,', 'a', 'parapl...</td>\n",
       "      <td>['Action', 'Adventure', 'Fantasy', 'ScienceFic...</td>\n",
       "      <td>['cultureclash', 'future', 'spacewar', 'spacec...</td>\n",
       "      <td>['SamWorthington', 'ZoeSaldana', 'SigourneyWea...</td>\n",
       "    </tr>\n",
       "    <tr>\n",
       "      <th>1</th>\n",
       "      <td>285</td>\n",
       "      <td>Pirates of the Caribbean: At World's End</td>\n",
       "      <td>['Captain', 'Barbossa,', 'long', 'believed', '...</td>\n",
       "      <td>['Adventure', 'Fantasy', 'Action']</td>\n",
       "      <td>['ocean', 'drugabuse', 'exoticisland', 'eastin...</td>\n",
       "      <td>['JohnnyDepp', 'OrlandoBloom', 'KeiraKnightley']</td>\n",
       "    </tr>\n",
       "    <tr>\n",
       "      <th>2</th>\n",
       "      <td>206647</td>\n",
       "      <td>Spectre</td>\n",
       "      <td>['A', 'cryptic', 'message', 'from', 'Bond’s', ...</td>\n",
       "      <td>['Action', 'Adventure', 'Crime']</td>\n",
       "      <td>['spy', 'basedonnovel', 'secretagent', 'sequel...</td>\n",
       "      <td>['DanielCraig', 'ChristophWaltz', 'LéaSeydoux']</td>\n",
       "    </tr>\n",
       "    <tr>\n",
       "      <th>3</th>\n",
       "      <td>49026</td>\n",
       "      <td>The Dark Knight Rises</td>\n",
       "      <td>['Following', 'the', 'death', 'of', 'District'...</td>\n",
       "      <td>['Action', 'Crime', 'Drama', 'Thriller']</td>\n",
       "      <td>['dccomics', 'crimefighter', 'terrorist', 'sec...</td>\n",
       "      <td>['ChristianBale', 'MichaelCaine', 'GaryOldman']</td>\n",
       "    </tr>\n",
       "    <tr>\n",
       "      <th>4</th>\n",
       "      <td>49529</td>\n",
       "      <td>John Carter</td>\n",
       "      <td>['John', 'Carter', 'is', 'a', 'war-weary,', 'f...</td>\n",
       "      <td>['Action', 'Adventure', 'ScienceFiction']</td>\n",
       "      <td>['basedonnovel', 'mars', 'medallion', 'spacetr...</td>\n",
       "      <td>['TaylorKitsch', 'LynnCollins', 'SamanthaMorton']</td>\n",
       "    </tr>\n",
       "  </tbody>\n",
       "</table>\n",
       "</div>"
      ],
      "text/plain": [
       "   movie_id  ...                                               cast\n",
       "0     19995  ...  ['SamWorthington', 'ZoeSaldana', 'SigourneyWea...\n",
       "1       285  ...   ['JohnnyDepp', 'OrlandoBloom', 'KeiraKnightley']\n",
       "2    206647  ...    ['DanielCraig', 'ChristophWaltz', 'LéaSeydoux']\n",
       "3     49026  ...    ['ChristianBale', 'MichaelCaine', 'GaryOldman']\n",
       "4     49529  ...  ['TaylorKitsch', 'LynnCollins', 'SamanthaMorton']\n",
       "\n",
       "[5 rows x 6 columns]"
      ]
     },
     "execution_count": 2,
     "metadata": {},
     "output_type": "execute_result"
    }
   ],
   "source": [
    "movies = pd.read_csv(\"../dataset/clean_film/cleaned_movies.csv\")\n",
    "movies.head()"
   ]
  },
  {
   "cell_type": "code",
   "execution_count": 3,
   "metadata": {},
   "outputs": [],
   "source": [
    "# 2️⃣ Gabungkan kolom teks menjadi satu fitur \"content\"\n",
    "movies['content'] = movies['overview'].fillna('') + \" \" + movies['genres'].fillna('') + \" \" + movies['keywords'].fillna('')"
   ]
  },
  {
   "cell_type": "code",
   "execution_count": 4,
   "metadata": {},
   "outputs": [
    {
     "data": {
      "text/html": [
       "<div>\n",
       "<style scoped>\n",
       "    .dataframe tbody tr th:only-of-type {\n",
       "        vertical-align: middle;\n",
       "    }\n",
       "\n",
       "    .dataframe tbody tr th {\n",
       "        vertical-align: top;\n",
       "    }\n",
       "\n",
       "    .dataframe thead th {\n",
       "        text-align: right;\n",
       "    }\n",
       "</style>\n",
       "<table border=\"1\" class=\"dataframe\">\n",
       "  <thead>\n",
       "    <tr style=\"text-align: right;\">\n",
       "      <th></th>\n",
       "      <th>movie_id</th>\n",
       "      <th>title</th>\n",
       "      <th>overview</th>\n",
       "      <th>genres</th>\n",
       "      <th>keywords</th>\n",
       "      <th>cast</th>\n",
       "      <th>content</th>\n",
       "    </tr>\n",
       "  </thead>\n",
       "  <tbody>\n",
       "    <tr>\n",
       "      <th>0</th>\n",
       "      <td>19995</td>\n",
       "      <td>Avatar</td>\n",
       "      <td>['In', 'the', '22nd', 'century,', 'a', 'parapl...</td>\n",
       "      <td>['Action', 'Adventure', 'Fantasy', 'ScienceFic...</td>\n",
       "      <td>['cultureclash', 'future', 'spacewar', 'spacec...</td>\n",
       "      <td>['SamWorthington', 'ZoeSaldana', 'SigourneyWea...</td>\n",
       "      <td>['In', 'the', '22nd', 'century,', 'a', 'parapl...</td>\n",
       "    </tr>\n",
       "    <tr>\n",
       "      <th>1</th>\n",
       "      <td>285</td>\n",
       "      <td>Pirates of the Caribbean: At World's End</td>\n",
       "      <td>['Captain', 'Barbossa,', 'long', 'believed', '...</td>\n",
       "      <td>['Adventure', 'Fantasy', 'Action']</td>\n",
       "      <td>['ocean', 'drugabuse', 'exoticisland', 'eastin...</td>\n",
       "      <td>['JohnnyDepp', 'OrlandoBloom', 'KeiraKnightley']</td>\n",
       "      <td>['Captain', 'Barbossa,', 'long', 'believed', '...</td>\n",
       "    </tr>\n",
       "    <tr>\n",
       "      <th>2</th>\n",
       "      <td>206647</td>\n",
       "      <td>Spectre</td>\n",
       "      <td>['A', 'cryptic', 'message', 'from', 'Bond’s', ...</td>\n",
       "      <td>['Action', 'Adventure', 'Crime']</td>\n",
       "      <td>['spy', 'basedonnovel', 'secretagent', 'sequel...</td>\n",
       "      <td>['DanielCraig', 'ChristophWaltz', 'LéaSeydoux']</td>\n",
       "      <td>['A', 'cryptic', 'message', 'from', 'Bond’s', ...</td>\n",
       "    </tr>\n",
       "    <tr>\n",
       "      <th>3</th>\n",
       "      <td>49026</td>\n",
       "      <td>The Dark Knight Rises</td>\n",
       "      <td>['Following', 'the', 'death', 'of', 'District'...</td>\n",
       "      <td>['Action', 'Crime', 'Drama', 'Thriller']</td>\n",
       "      <td>['dccomics', 'crimefighter', 'terrorist', 'sec...</td>\n",
       "      <td>['ChristianBale', 'MichaelCaine', 'GaryOldman']</td>\n",
       "      <td>['Following', 'the', 'death', 'of', 'District'...</td>\n",
       "    </tr>\n",
       "    <tr>\n",
       "      <th>4</th>\n",
       "      <td>49529</td>\n",
       "      <td>John Carter</td>\n",
       "      <td>['John', 'Carter', 'is', 'a', 'war-weary,', 'f...</td>\n",
       "      <td>['Action', 'Adventure', 'ScienceFiction']</td>\n",
       "      <td>['basedonnovel', 'mars', 'medallion', 'spacetr...</td>\n",
       "      <td>['TaylorKitsch', 'LynnCollins', 'SamanthaMorton']</td>\n",
       "      <td>['John', 'Carter', 'is', 'a', 'war-weary,', 'f...</td>\n",
       "    </tr>\n",
       "  </tbody>\n",
       "</table>\n",
       "</div>"
      ],
      "text/plain": [
       "   movie_id  ...                                            content\n",
       "0     19995  ...  ['In', 'the', '22nd', 'century,', 'a', 'parapl...\n",
       "1       285  ...  ['Captain', 'Barbossa,', 'long', 'believed', '...\n",
       "2    206647  ...  ['A', 'cryptic', 'message', 'from', 'Bond’s', ...\n",
       "3     49026  ...  ['Following', 'the', 'death', 'of', 'District'...\n",
       "4     49529  ...  ['John', 'Carter', 'is', 'a', 'war-weary,', 'f...\n",
       "\n",
       "[5 rows x 7 columns]"
      ]
     },
     "execution_count": 4,
     "metadata": {},
     "output_type": "execute_result"
    }
   ],
   "source": [
    "movies.head()"
   ]
  },
  {
   "cell_type": "markdown",
   "metadata": {},
   "source": [
    "### TF-IDF Vectorizer"
   ]
  },
  {
   "cell_type": "code",
   "execution_count": 5,
   "metadata": {},
   "outputs": [],
   "source": [
    "tfidf_vectorizer = TfidfVectorizer(stop_words='english')\n",
    "tfidf_matriks = tfidf_vectorizer.fit_transform(movies['content'])"
   ]
  },
  {
   "cell_type": "code",
   "execution_count": 15,
   "metadata": {},
   "outputs": [
    {
     "data": {
      "text/plain": [
       "(4806, 27452)"
      ]
     },
     "execution_count": 15,
     "metadata": {},
     "output_type": "execute_result"
    }
   ],
   "source": [
    "tfidf_matriks.shape"
   ]
  },
  {
   "cell_type": "markdown",
   "metadata": {},
   "source": [
    "### Simpan Hasil preprocessing"
   ]
  },
  {
   "cell_type": "code",
   "execution_count": 6,
   "metadata": {},
   "outputs": [
    {
     "data": {
      "text/plain": [
       "['../models/tfidf_vectorizer.pkl']"
      ]
     },
     "execution_count": 6,
     "metadata": {},
     "output_type": "execute_result"
    }
   ],
   "source": [
    "joblib.dump(movies, '../dataset/preprocessing_data/processed_data.pkl')\n",
    "joblib.dump(tfidf_vectorizer, \"../models/tfidf_vectorizer.pkl\")"
   ]
  }
 ],
 "metadata": {
  "kernelspec": {
   "display_name": "base",
   "language": "python",
   "name": "python3"
  },
  "language_info": {
   "codemirror_mode": {
    "name": "ipython",
    "version": 3
   },
   "file_extension": ".py",
   "mimetype": "text/x-python",
   "name": "python",
   "nbconvert_exporter": "python",
   "pygments_lexer": "ipython3",
   "version": "3.12.8"
  }
 },
 "nbformat": 4,
 "nbformat_minor": 2
}
